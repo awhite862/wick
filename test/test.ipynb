{
 "cells": [
  {
   "cell_type": "code",
   "execution_count": 1,
   "id": "eda81876-9533-45c8-a33e-5c253e97c353",
   "metadata": {},
   "outputs": [
    {
     "name": "stdout",
     "output_type": "stream",
     "text": [
      "converged SCF energy = -99.9873974403489\n",
      "E(CCSD) = -100.2037350688028  E_corr = -0.2163376284539884\n"
     ]
    }
   ],
   "source": [
    "from functools import reduce\n",
    "\n",
    "import numpy\n",
    "import pyscf\n",
    "\n",
    "mol = pyscf.M(\n",
    "    atom = 'H 0 0 0; F 0 0 1.1',\n",
    "    basis = 'ccpvdz')\n",
    "\n",
    "mf = mol.RHF().run()\n",
    "cc = mf.CCSD().run()\n",
    "\n",
    "norb  = mf.mo_coeff.shape[1]\n",
    "h1e   = reduce(numpy.dot, (mf.mo_coeff.T, mf.get_hcore(), mf.mo_coeff))\n",
    "h2e   = pyscf.ao2mo.kernel(mf._eri, mf.mo_coeff, compact=False)\n",
    "h2e   = h2e.reshape(norb, norb, norb, norb)"
   ]
  },
  {
   "cell_type": "code",
   "execution_count": null,
   "id": "eea3b6db-30e5-4727-9500-f073ba079752",
   "metadata": {},
   "outputs": [],
   "source": []
  }
 ],
 "metadata": {
  "kernelspec": {
   "display_name": "Python 3",
   "language": "python",
   "name": "python3"
  },
  "language_info": {
   "codemirror_mode": {
    "name": "ipython",
    "version": 3
   },
   "file_extension": ".py",
   "mimetype": "text/x-python",
   "name": "python",
   "nbconvert_exporter": "python",
   "pygments_lexer": "ipython3",
   "version": "3.8.8"
  }
 },
 "nbformat": 4,
 "nbformat_minor": 5
}
