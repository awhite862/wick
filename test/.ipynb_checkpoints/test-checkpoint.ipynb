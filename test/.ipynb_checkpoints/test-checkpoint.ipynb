{
 "cells": [
  {
   "cell_type": "code",
   "execution_count": null,
   "id": "eda81876-9533-45c8-a33e-5c253e97c353",
   "metadata": {},
   "outputs": [],
   "source": [
    "import numpy\n",
    "import pyscf\n",
    "\n",
    "mol = pyscf.M(\n",
    "    atom = 'H 0 0 0; F 0 0 1.1',\n",
    "    basis = 'ccpvdz')\n",
    "\n",
    "mf = mol.RHF().run()\n",
    "cc = mf.CCSD().run()\n",
    "\n",
    "norb  = m.mo_coeff.shape[1]\n",
    "h1e   = reduce(numpy.dot, (m.mo_coeff.T, m.get_hcore(), m.mo_coeff))\n",
    "h2e   = pyscf.ao2mo.kernel(m._eri, m.mo_coeff, compact=False)\n",
    "h2e   = h2e.reshape(norb, norb, norb, norb)"
   ]
  }
 ],
 "metadata": {
  "kernelspec": {
   "display_name": "Python 3",
   "language": "python",
   "name": "python3"
  },
  "language_info": {
   "codemirror_mode": {
    "name": "ipython",
    "version": 3
   },
   "file_extension": ".py",
   "mimetype": "text/x-python",
   "name": "python",
   "nbconvert_exporter": "python",
   "pygments_lexer": "ipython3",
   "version": "3.8.8"
  }
 },
 "nbformat": 4,
 "nbformat_minor": 5
}
